{
  "nbformat": 4,
  "nbformat_minor": 0,
  "metadata": {
    "colab": {
      "name": "Submission_LSTM_Autoencoder.ipynb",
      "provenance": [],
      "collapsed_sections": [
        "yldqPDMFhWtk",
        "J_jelkIMuccm",
        "T-Tzrm1A-7M2",
        "fg6WkG6YAYlw",
        "2qTbcdF6N9W1",
        "SdYz-LPiGCNn",
        "e5pdF0jcmotr",
        "E58RJrXRLf-l",
        "6uCzvVOkMd9L",
        "xZB0oVt_-fSP",
        "6bT_ZQj7TJ78",
        "pefmwhYBx7Xu",
        "EIR_Z6XVNRO9",
        "LyKjWf9jK2VM",
        "nIviEhJyxQs2"
      ]
    },
    "kernelspec": {
      "name": "python3",
      "display_name": "Python 3"
    }
  },
  "cells": [
    {
      "cell_type": "markdown",
      "metadata": {
        "id": "yldqPDMFhWtk",
        "colab_type": "text"
      },
      "source": [
        "#**Abnormality detection in IMU data using LSTM Autoencoder and Encoder-Decoder Forecaster**\n",
        "---\n",
        "The required IMU data is extraced from the rosbags and converted to csv format.Then they are saved in google drive and accessed through this Notebook.\n",
        "Having the data in the csv format is useful in visualizing and analyzing the data easily.Also it is easy to work with csv files in  creating the training data for the created models.\n",
        "#####**Before starting, the 12 csv files need to be uploaded to a google drive and the paths to those files must be added in the next cell**\n",
        "---"
      ]
    },
    {
      "cell_type": "markdown",
      "metadata": {
        "id": "J_jelkIMuccm",
        "colab_type": "text"
      },
      "source": [
        "\n",
        "###1.1 DRIVE MOUNTS\n",
        "---\n",
        "Mount the google drive where the IMU csv data is stored\n",
        "\n",
        "---"
      ]
    },
    {
      "cell_type": "code",
      "metadata": {
        "id": "og4nda8t6F7_",
        "colab_type": "code",
        "colab": {}
      },
      "source": [
        "from google.colab import drive\n",
        "drive.mount('/content/drive')"
      ],
      "execution_count": 0,
      "outputs": []
    },
    {
      "cell_type": "markdown",
      "metadata": {
        "id": "T-Tzrm1A-7M2",
        "colab_type": "text"
      },
      "source": [
        "###1.2 Set the paths to the datasets\n",
        "\n",
        "---\n",
        "01-Initial-dataset-with-no-abnormalities.........normal-0\n",
        "\n",
        "2020-01-17-11-32-12...........................................normal-1\n",
        "\n",
        "2020-01-17-11-32-49...........................................normal-2\n",
        "\n",
        "2020-01-17-11-33-26..........................................   normal-3\n",
        "\n",
        "2020-01-17-11-34-08..........................................                         normal-4\n",
        "\n",
        "2020-01-17-11-34-43  .........................................                          normal-5\n",
        "\n",
        "02-Initial-dataset-with-abnormalities .............          abnormal-0\n",
        "\n",
        "2020-01-17-11-35-27               .........................................               abnormal-1\n",
        "\n",
        "2020-01-17-11-36-03  \t\t  .........................................                   abnormal-2\n",
        "\n",
        "2020-01-17-11-36-43 \t   .........................................                      abnormal-3\n",
        "\n",
        "2020-01-17-11-37-25        .........................................                     abnormal-4\n",
        "\n",
        "2020-01-17-11-38-07\t\t .........................................                        abnormal-5\n",
        "\n",
        "#####**In the following cell it is required to set the paths to the normal files and abnormal files in the folders_norm and folders_abnorm respectively**\n",
        "\n",
        "---"
      ]
    },
    {
      "cell_type": "code",
      "metadata": {
        "id": "4TPg47jM8JJR",
        "colab_type": "code",
        "colab": {}
      },
      "source": [
        "folders_norm=[\"/content/drive/My Drive/SP CUP 2020/SP Cup/01_Initial_dataset_with_no_abnormalities/_slash_mavros_slash_imu_slash_data.csv\",\"/content/drive/My Drive/SP CUP 2020/SP Cup/03_Dataset with 5 normal experiments_17Jan2020/2020-01-17-11-32-12/_slash_mavros_slash_imu_slash_data.csv\",\"/content/drive/My Drive/SP CUP 2020/SP Cup/03_Dataset with 5 normal experiments_17Jan2020/2020-01-17-11-32-49/_slash_mavros_slash_imu_slash_data.csv\",\"/content/drive/My Drive/SP CUP 2020/SP Cup/03_Dataset with 5 normal experiments_17Jan2020/2020-01-17-11-33-26/_slash_mavros_slash_imu_slash_data.csv\",\"/content/drive/My Drive/SP CUP 2020/SP Cup/03_Dataset with 5 normal experiments_17Jan2020/2020-01-17-11-34-08/_slash_mavros_slash_imu_slash_data.csv\",\"/content/drive/My Drive/SP CUP 2020/SP Cup/03_Dataset with 5 normal experiments_17Jan2020/2020-01-17-11-34-43/_slash_mavros_slash_imu_slash_data.csv\"]\n",
        "folders_abnorm=[\"/content/drive/My Drive/SP CUP 2020/SP Cup/02_Initial_dataset_with_abnormalities/_slash_mavros_slash_imu_slash_data.csv\",\"/content/drive/My Drive/SP CUP 2020/SP Cup/04_Dataset with 5 abnormal experiments_17Jan2020/2020-01-17-11-35-27/_slash_mavros_slash_imu_slash_data.csv\",\"/content/drive/My Drive/SP CUP 2020/SP Cup/04_Dataset with 5 abnormal experiments_17Jan2020/2020-01-17-11-36-03/_slash_mavros_slash_imu_slash_data.csv\",\"/content/drive/My Drive/SP CUP 2020/SP Cup/04_Dataset with 5 abnormal experiments_17Jan2020/2020-01-17-11-36-43/_slash_mavros_slash_imu_slash_data.csv\",\"/content/drive/My Drive/SP CUP 2020/SP Cup/04_Dataset with 5 abnormal experiments_17Jan2020/2020-01-17-11-37-25/_slash_mavros_slash_imu_slash_data.csv\",\"/content/drive/My Drive/SP CUP 2020/SP Cup/04_Dataset with 5 abnormal experiments_17Jan2020/2020-01-17-11-38-07/_slash_mavros_slash_imu_slash_data.csv\"]"
      ],
      "execution_count": 0,
      "outputs": []
    },
    {
      "cell_type": "code",
      "metadata": {
        "id": "K3d3r3X4Xxyp",
        "colab_type": "code",
        "colab": {}
      },
      "source": [
        "folders_norm=[\"/content/drive/My Drive/SP CUP 2020/IMU/normal_0.csv\",\"/content/drive/My Drive/SP CUP 2020/IMU/normal_1.csv\",\"/content/drive/My Drive/SP CUP 2020/IMU/normal_2.csv\",\"/content/drive/My Drive/SP CUP 2020/IMU/normal_3.csv\",\"/content/drive/My Drive/SP CUP 2020/IMU/normal_4.csv\",\"/content/drive/My Drive/SP CUP 2020/IMU/normal_5.csv\"]\n",
        "folders_abnorm=[\"/content/drive/My Drive/SP CUP 2020/IMU/abnormal_0.csv\",\"/content/drive/My Drive/SP CUP 2020/IMU/abnormal_1.csv\",\"/content/drive/My Drive/SP CUP 2020/IMU/abnormal_2.csv\",\"/content/drive/My Drive/SP CUP 2020/IMU/abnormal_3.csv\",\"/content/drive/My Drive/SP CUP 2020/IMU/abnormal_4.csv\",\"/content/drive/My Drive/SP CUP 2020/IMU/abnormal_5.csv\"]"
      ],
      "execution_count": 0,
      "outputs": []
    },
    {
      "cell_type": "markdown",
      "metadata": {
        "id": "fg6WkG6YAYlw",
        "colab_type": "text"
      },
      "source": [
        "###1.3 Library Imports"
      ]
    },
    {
      "cell_type": "code",
      "metadata": {
        "id": "aHb9JIDeL8qR",
        "colab_type": "code",
        "colab": {
          "base_uri": "https://localhost:8080/",
          "height": 81
        },
        "outputId": "372230e0-ab8d-4d53-e8ef-972bffc6df9c"
      },
      "source": [
        "import matplotlib.pyplot as plt\n",
        "import numpy as np\n",
        "import pandas as pd\n",
        "from keras.models import Sequential\n",
        "from keras.layers import Dense\n",
        "from keras.layers import LSTM,SimpleRNN,GRU\n",
        "from keras.layers import RepeatVector\n",
        "from keras.layers import TimeDistributed\n",
        "from keras.models import load_model\n",
        "from sklearn.preprocessing import MinMaxScaler\n",
        "import joblib\n",
        "from keras import optimizers\n",
        "from keras.utils import plot_model"
      ],
      "execution_count": 3,
      "outputs": [
        {
          "output_type": "stream",
          "text": [
            "Using TensorFlow backend.\n"
          ],
          "name": "stderr"
        },
        {
          "output_type": "display_data",
          "data": {
            "text/html": [
              "<p style=\"color: red;\">\n",
              "The default version of TensorFlow in Colab will soon switch to TensorFlow 2.x.<br>\n",
              "We recommend you <a href=\"https://www.tensorflow.org/guide/migrate\" target=\"_blank\">upgrade</a> now \n",
              "or ensure your notebook will continue to use TensorFlow 1.x via the <code>%tensorflow_version 1.x</code> magic:\n",
              "<a href=\"https://colab.research.google.com/notebooks/tensorflow_version.ipynb\" target=\"_blank\">more info</a>.</p>\n"
            ],
            "text/plain": [
              "<IPython.core.display.HTML object>"
            ]
          },
          "metadata": {
            "tags": []
          }
        }
      ]
    },
    {
      "cell_type": "markdown",
      "metadata": {
        "id": "2qTbcdF6N9W1",
        "colab_type": "text"
      },
      "source": [
        "### **2. LOOKING INTO THE IMU DATASET**\n",
        "In the following cell, by changing data from 0 - 5 and the folder,we can look into the normal and abnormal IMU Dataframe.\n"
      ]
    },
    {
      "cell_type": "code",
      "metadata": {
        "id": "ZXyuvtusN8jS",
        "colab_type": "code",
        "outputId": "e5830639-9eca-4015-95fe-019224ef75b2",
        "colab": {
          "base_uri": "https://localhost:8080/",
          "height": 299
        }
      },
      "source": [
        "data=0\n",
        "data_dir = folders_norm[data]\n",
        "df=pd.read_csv(data_dir)\n",
        "df.head()"
      ],
      "execution_count": 4,
      "outputs": [
        {
          "output_type": "execute_result",
          "data": {
            "text/html": [
              "<div>\n",
              "<style scoped>\n",
              "    .dataframe tbody tr th:only-of-type {\n",
              "        vertical-align: middle;\n",
              "    }\n",
              "\n",
              "    .dataframe tbody tr th {\n",
              "        vertical-align: top;\n",
              "    }\n",
              "\n",
              "    .dataframe thead th {\n",
              "        text-align: right;\n",
              "    }\n",
              "</style>\n",
              "<table border=\"1\" class=\"dataframe\">\n",
              "  <thead>\n",
              "    <tr style=\"text-align: right;\">\n",
              "      <th></th>\n",
              "      <th>rosbagTimestamp</th>\n",
              "      <th>header</th>\n",
              "      <th>seq</th>\n",
              "      <th>stamp</th>\n",
              "      <th>secs</th>\n",
              "      <th>nsecs</th>\n",
              "      <th>frame_id</th>\n",
              "      <th>orientation</th>\n",
              "      <th>x</th>\n",
              "      <th>y</th>\n",
              "      <th>z</th>\n",
              "      <th>w</th>\n",
              "      <th>orientation_covariance</th>\n",
              "      <th>angular_velocity</th>\n",
              "      <th>x.1</th>\n",
              "      <th>y.1</th>\n",
              "      <th>z.1</th>\n",
              "      <th>angular_velocity_covariance</th>\n",
              "      <th>linear_acceleration</th>\n",
              "      <th>x.2</th>\n",
              "      <th>y.2</th>\n",
              "      <th>z.2</th>\n",
              "      <th>linear_acceleration_covariance</th>\n",
              "    </tr>\n",
              "  </thead>\n",
              "  <tbody>\n",
              "    <tr>\n",
              "      <th>0</th>\n",
              "      <td>1574069785650187121</td>\n",
              "      <td>NaN</td>\n",
              "      <td>52</td>\n",
              "      <td>NaN</td>\n",
              "      <td>1574069785</td>\n",
              "      <td>649981814</td>\n",
              "      <td>\"base_link\"</td>\n",
              "      <td>NaN</td>\n",
              "      <td>-0.007621</td>\n",
              "      <td>-0.004687</td>\n",
              "      <td>-0.234685</td>\n",
              "      <td>-0.972030</td>\n",
              "      <td>[1.0, 0.0, 0.0, 0.0, 1.0, 0.0, 0.0, 0.0, 1.0]</td>\n",
              "      <td>NaN</td>\n",
              "      <td>0.000214</td>\n",
              "      <td>0.000151</td>\n",
              "      <td>0.002010</td>\n",
              "      <td>[1.2184696791468346e-07, 0.0, 0.0, 0.0, 1.2184...</td>\n",
              "      <td>NaN</td>\n",
              "      <td>-0.107873</td>\n",
              "      <td>0.088260</td>\n",
              "      <td>9.806650</td>\n",
              "      <td>[8.999999999999999e-08, 0.0, 0.0, 0.0, 8.99999...</td>\n",
              "    </tr>\n",
              "    <tr>\n",
              "      <th>1</th>\n",
              "      <td>1574069785870420846</td>\n",
              "      <td>NaN</td>\n",
              "      <td>53</td>\n",
              "      <td>NaN</td>\n",
              "      <td>1574069785</td>\n",
              "      <td>870282016</td>\n",
              "      <td>\"base_link\"</td>\n",
              "      <td>NaN</td>\n",
              "      <td>-0.007845</td>\n",
              "      <td>-0.004503</td>\n",
              "      <td>-0.234648</td>\n",
              "      <td>-0.972038</td>\n",
              "      <td>[1.0, 0.0, 0.0, 0.0, 1.0, 0.0, 0.0, 0.0, 1.0]</td>\n",
              "      <td>NaN</td>\n",
              "      <td>-0.001187</td>\n",
              "      <td>-0.000858</td>\n",
              "      <td>-0.001256</td>\n",
              "      <td>[1.2184696791468346e-07, 0.0, 0.0, 0.0, 1.2184...</td>\n",
              "      <td>NaN</td>\n",
              "      <td>-0.107873</td>\n",
              "      <td>0.068647</td>\n",
              "      <td>9.777230</td>\n",
              "      <td>[8.999999999999999e-08, 0.0, 0.0, 0.0, 8.99999...</td>\n",
              "    </tr>\n",
              "    <tr>\n",
              "      <th>2</th>\n",
              "      <td>1574069786111331180</td>\n",
              "      <td>NaN</td>\n",
              "      <td>54</td>\n",
              "      <td>NaN</td>\n",
              "      <td>1574069786</td>\n",
              "      <td>111150187</td>\n",
              "      <td>\"base_link\"</td>\n",
              "      <td>NaN</td>\n",
              "      <td>-0.008120</td>\n",
              "      <td>-0.004273</td>\n",
              "      <td>-0.234579</td>\n",
              "      <td>-0.972054</td>\n",
              "      <td>[1.0, 0.0, 0.0, 0.0, 1.0, 0.0, 0.0, 0.0, 1.0]</td>\n",
              "      <td>NaN</td>\n",
              "      <td>0.001719</td>\n",
              "      <td>-0.001543</td>\n",
              "      <td>-0.001125</td>\n",
              "      <td>[1.2184696791468346e-07, 0.0, 0.0, 0.0, 1.2184...</td>\n",
              "      <td>NaN</td>\n",
              "      <td>-0.107873</td>\n",
              "      <td>0.078453</td>\n",
              "      <td>9.777230</td>\n",
              "      <td>[8.999999999999999e-08, 0.0, 0.0, 0.0, 8.99999...</td>\n",
              "    </tr>\n",
              "    <tr>\n",
              "      <th>3</th>\n",
              "      <td>1574069786357875974</td>\n",
              "      <td>NaN</td>\n",
              "      <td>55</td>\n",
              "      <td>NaN</td>\n",
              "      <td>1574069786</td>\n",
              "      <td>357591266</td>\n",
              "      <td>\"base_link\"</td>\n",
              "      <td>NaN</td>\n",
              "      <td>-0.008404</td>\n",
              "      <td>-0.004010</td>\n",
              "      <td>-0.234530</td>\n",
              "      <td>-0.972064</td>\n",
              "      <td>[1.0, 0.0, 0.0, 0.0, 1.0, 0.0, 0.0, 0.0, 1.0]</td>\n",
              "      <td>NaN</td>\n",
              "      <td>0.000330</td>\n",
              "      <td>0.000270</td>\n",
              "      <td>0.001531</td>\n",
              "      <td>[1.2184696791468346e-07, 0.0, 0.0, 0.0, 1.2184...</td>\n",
              "      <td>NaN</td>\n",
              "      <td>-0.117680</td>\n",
              "      <td>0.068647</td>\n",
              "      <td>9.787037</td>\n",
              "      <td>[8.999999999999999e-08, 0.0, 0.0, 0.0, 8.99999...</td>\n",
              "    </tr>\n",
              "    <tr>\n",
              "      <th>4</th>\n",
              "      <td>1574069786593603901</td>\n",
              "      <td>NaN</td>\n",
              "      <td>56</td>\n",
              "      <td>NaN</td>\n",
              "      <td>1574069786</td>\n",
              "      <td>593430966</td>\n",
              "      <td>\"base_link\"</td>\n",
              "      <td>NaN</td>\n",
              "      <td>-0.008489</td>\n",
              "      <td>-0.003894</td>\n",
              "      <td>-0.234552</td>\n",
              "      <td>-0.972059</td>\n",
              "      <td>[1.0, 0.0, 0.0, 0.0, 1.0, 0.0, 0.0, 0.0, 1.0]</td>\n",
              "      <td>NaN</td>\n",
              "      <td>0.000994</td>\n",
              "      <td>-0.000740</td>\n",
              "      <td>-0.003595</td>\n",
              "      <td>[1.2184696791468346e-07, 0.0, 0.0, 0.0, 1.2184...</td>\n",
              "      <td>NaN</td>\n",
              "      <td>-0.098067</td>\n",
              "      <td>0.078453</td>\n",
              "      <td>9.777230</td>\n",
              "      <td>[8.999999999999999e-08, 0.0, 0.0, 0.0, 8.99999...</td>\n",
              "    </tr>\n",
              "  </tbody>\n",
              "</table>\n",
              "</div>"
            ],
            "text/plain": [
              "       rosbagTimestamp  ...                     linear_acceleration_covariance\n",
              "0  1574069785650187121  ...  [8.999999999999999e-08, 0.0, 0.0, 0.0, 8.99999...\n",
              "1  1574069785870420846  ...  [8.999999999999999e-08, 0.0, 0.0, 0.0, 8.99999...\n",
              "2  1574069786111331180  ...  [8.999999999999999e-08, 0.0, 0.0, 0.0, 8.99999...\n",
              "3  1574069786357875974  ...  [8.999999999999999e-08, 0.0, 0.0, 0.0, 8.99999...\n",
              "4  1574069786593603901  ...  [8.999999999999999e-08, 0.0, 0.0, 0.0, 8.99999...\n",
              "\n",
              "[5 rows x 23 columns]"
            ]
          },
          "metadata": {
            "tags": []
          },
          "execution_count": 4
        }
      ]
    },
    {
      "cell_type": "markdown",
      "metadata": {
        "id": "h5gTMl4of8dY",
        "colab_type": "text"
      },
      "source": [
        "In the following cell we can visualize the linear acceleration in different bag files by chaging th \"num\" and data_dir variables."
      ]
    },
    {
      "cell_type": "code",
      "metadata": {
        "id": "mfbiuNkmiM2Q",
        "colab_type": "code",
        "outputId": "87205640-023f-4647-c70a-1146af629efc",
        "colab": {
          "base_uri": "https://localhost:8080/",
          "height": 301
        }
      },
      "source": [
        "num=4\n",
        "data_dir = folders_norm[num]\n",
        "df=pd.read_csv(data_dir)\n",
        "linear_acceleration = pd.DataFrame()\n",
        "for i in range(len(df)):\n",
        "    x=df[\"x.2\"][i]\n",
        "    y=df[\"y.2\"][i]\n",
        "    z=df[\"z.2\"][i]\n",
        "    la=np.array([x,y,z])\n",
        "    la_df=pd.DataFrame(la.reshape(1,3))\n",
        "    la_df.index=[str(i)]\n",
        "    linear_acceleration=linear_acceleration.append(la_df)\n",
        "linear_acceleration.columns=[\"X\",\"Y\",\"Z\"]\n",
        "plt.plot(linear_acceleration[\"X\"],label=\"X\",linewidth=2,color=\"red\")\n",
        "plt.plot(linear_acceleration[\"Y\"],label=\"Y\",linewidth=2, color=\"green\")\n",
        "plt.plot(linear_acceleration[\"Z\"],label=\"Z\",linewidth=2, color=\"blue\")\n",
        "plt.xlim=(0,340)\n",
        "plt.axis([0,len(linear_acceleration),-20,20])\n",
        "plt.legend(loc='lower center',fontsize=18)\n",
        "plt.xticks(np.arange(0,340 , step=20))\n",
        "plt.title(\"Linear Acceleration\",fontsize=20)\n",
        "#plt.axvspan(0,60,facecolor='r', alpha=0.5)\n",
        "plt.ylabel(\"Linear_Acceleration\")\n",
        "plt.xlabel(\"time_stamps\");"
      ],
      "execution_count": 6,
      "outputs": [
        {
          "output_type": "display_data",
          "data": {
            "image/png": "[encoded data removed]",
            "text/plain": [
              "<Figure size 432x288 with 1 Axes>"
            ]
          },
          "metadata": {
            "tags": []
          }
        }
      ]
    },
    {
      "cell_type": "markdown",
      "metadata": {
        "id": "di62U5jaj9JS",
        "colab_type": "text"
      },
      "source": [
        "In the following cell we can visualize the angular velocity in different bag files by changing the \"n\" and data_dir variables"
      ]
    },
    {
      "cell_type": "code",
      "metadata": {
        "id": "DO2rOfryi9Q-",
        "colab_type": "code",
        "outputId": "5c52eeed-fc3a-4ceb-c760-3ba2730e6bde",
        "colab": {
          "base_uri": "https://localhost:8080/",
          "height": 286
        }
      },
      "source": [
        "n=0\n",
        "\n",
        "data_dir = folders_norm[n]\n",
        "df=pd.read_csv(data_dir)\n",
        "#print(df.columns)\n",
        "angular_velocity = pd.DataFrame()\n",
        "for i in range(len(df)):\n",
        "    x=df[\"x.1\"][i]\n",
        "    y=df[\"y.1\"][i]\n",
        "    z=df[\"z.1\"][i]\n",
        "    av=np.array([x,y,z])\n",
        "    av_df=pd.DataFrame(av.reshape(1,3))\n",
        "    av_df.index=[str(i)]\n",
        "    angular_velocity=angular_velocity.append(av_df)\n",
        "    \n",
        "angular_velocity.columns=[\"X\",\"Y\",\"Z\"]\n",
        "# fig=plt.figure(figsize=(14,6))\n",
        "plt.axis([0,len(df),-10,10])\n",
        "\n",
        "plt.plot(angular_velocity[\"X\"],label=\"X\",linewidth=2,color=\"red\")\n",
        "plt.plot(angular_velocity[\"Y\"],label=\"Y\",linewidth=2, color=\"green\")\n",
        "plt.plot(angular_velocity[\"Z\"],label=\"Z\",linewidth=2, color=\"blue\")\n",
        "plt.legend(loc='lower right',fontsize=18)\n",
        "plt.title(\"normal_angular_velocity\",fontsize=20)\n",
        "plt.xticks(np.arange(0,len(angular_velocity) , step=20));"
      ],
      "execution_count": 7,
      "outputs": [
        {
          "output_type": "display_data",
          "data": {
            "image/png": "[encoded data removed]",
            "text/plain": [
              "<Figure size 432x288 with 1 Axes>"
            ]
          },
          "metadata": {
            "tags": []
          }
        }
      ]
    },
    {
      "cell_type": "markdown",
      "metadata": {
        "id": "n4uAFruv8fAl",
        "colab_type": "text"
      },
      "source": [
        "---\n",
        "###**NOTE**\n",
        "#### **normal_0** is used to find the **threshold** of errors and **normal_5** is used to **evaluate** the model, so we do not include them in the training set.\n",
        "\n",
        "---"
      ]
    },
    {
      "cell_type": "markdown",
      "metadata": {
        "id": "SdYz-LPiGCNn",
        "colab_type": "text"
      },
      "source": [
        "### **3. DATASET PREPARATION**\n",
        "###3.1 Importing Normal and Abnormal IMU Data"
      ]
    },
    {
      "cell_type": "code",
      "metadata": {
        "id": "2aK2q6Q-LHAs",
        "colab_type": "code",
        "colab": {}
      },
      "source": [
        "'''Below we have the code to create the training set, we are going to loop through the normal-1, normal-2,\n",
        "normal-3, normal-4 and create a dataframe called imu_norm_6 which contains six dimensional IMU vectors whose \n",
        "first three elements correspond to the angular velocity in the x,y,z direction and the last three correspond\n",
        "to the linear acceleration in the three direction\n",
        "'''\n",
        "imu_norm_6 = pd.DataFrame()                            \n",
        "for num in [1,2,3,4]:                                   \n",
        "    data_dir = folders_norm[num]\n",
        "    df=pd.read_csv(data_dir)\n",
        "\n",
        "    for i in range(len(df)):\n",
        "       \n",
        "        xa=df[\"x.1\"][i]\n",
        "        ya=df[\"y.1\"][i]\n",
        "        za=df[\"z.1\"][i]\n",
        "        xl=df[\"x.2\"][i]\n",
        "        yl=df[\"y.2\"][i]\n",
        "        zl=df[\"z.2\"][i]-10  # we reduce \"10\" from the linear_acceleration in the z-direction to bring all values around zero-a preprocessing step\n",
        "        \n",
        "        imu=np.array([xa,ya,za,xl,yl,zl])\n",
        "        imu_df=pd.DataFrame(imu.reshape(1,len(imu)))\n",
        "        imu_df.index=[str(i)]\n",
        "        imu_norm_6=imu_norm_6.append(imu_df)\n",
        "        \n",
        "imu_norm_6.columns=[\"XA\",\"YA\",\"ZA\",\"XL\",\"YL\",\"ZL\"]\n"
      ],
      "execution_count": 0,
      "outputs": []
    },
    {
      "cell_type": "markdown",
      "metadata": {
        "id": "e5pdF0jcmotr",
        "colab_type": "text"
      },
      "source": [
        "### 3.3 Data Preprocessing\n",
        "---\n",
        "### Raw Training set Dataframe - imu_norm_6\n",
        "\n",
        "### Preprocessed Training set Dataframe - imu_norm_6_s\n",
        "\n",
        "---"
      ]
    },
    {
      "cell_type": "code",
      "metadata": {
        "id": "N2K8TgDcPQrp",
        "colab_type": "code",
        "outputId": "922bf6bb-ac61-44a5-f8f0-99213b3344e2",
        "colab": {
          "base_uri": "https://localhost:8080/",
          "height": 195
        }
      },
      "source": [
        "imu_norm_6.head()"
      ],
      "execution_count": 13,
      "outputs": [
        {
          "output_type": "execute_result",
          "data": {
            "text/html": [
              "<div>\n",
              "<style scoped>\n",
              "    .dataframe tbody tr th:only-of-type {\n",
              "        vertical-align: middle;\n",
              "    }\n",
              "\n",
              "    .dataframe tbody tr th {\n",
              "        vertical-align: top;\n",
              "    }\n",
              "\n",
              "    .dataframe thead th {\n",
              "        text-align: right;\n",
              "    }\n",
              "</style>\n",
              "<table border=\"1\" class=\"dataframe\">\n",
              "  <thead>\n",
              "    <tr style=\"text-align: right;\">\n",
              "      <th></th>\n",
              "      <th>XA</th>\n",
              "      <th>YA</th>\n",
              "      <th>ZA</th>\n",
              "      <th>XL</th>\n",
              "      <th>YL</th>\n",
              "      <th>ZL</th>\n",
              "    </tr>\n",
              "  </thead>\n",
              "  <tbody>\n",
              "    <tr>\n",
              "      <th>0</th>\n",
              "      <td>0.027669</td>\n",
              "      <td>0.008776</td>\n",
              "      <td>0.008341</td>\n",
              "      <td>-0.362846</td>\n",
              "      <td>0.549172</td>\n",
              "      <td>-0.124703</td>\n",
              "    </tr>\n",
              "    <tr>\n",
              "      <th>1</th>\n",
              "      <td>-0.033511</td>\n",
              "      <td>0.012216</td>\n",
              "      <td>-0.000151</td>\n",
              "      <td>0.009807</td>\n",
              "      <td>0.441299</td>\n",
              "      <td>-0.389483</td>\n",
              "    </tr>\n",
              "    <tr>\n",
              "      <th>2</th>\n",
              "      <td>0.012266</td>\n",
              "      <td>-0.007867</td>\n",
              "      <td>-0.003631</td>\n",
              "      <td>-0.264780</td>\n",
              "      <td>0.137293</td>\n",
              "      <td>-0.212963</td>\n",
              "    </tr>\n",
              "    <tr>\n",
              "      <th>3</th>\n",
              "      <td>0.061616</td>\n",
              "      <td>-0.013745</td>\n",
              "      <td>-0.007604</td>\n",
              "      <td>-0.254973</td>\n",
              "      <td>0.294200</td>\n",
              "      <td>-0.242383</td>\n",
              "    </tr>\n",
              "    <tr>\n",
              "      <th>4</th>\n",
              "      <td>0.037237</td>\n",
              "      <td>0.046223</td>\n",
              "      <td>0.023627</td>\n",
              "      <td>0.019613</td>\n",
              "      <td>0.647239</td>\n",
              "      <td>-0.477743</td>\n",
              "    </tr>\n",
              "  </tbody>\n",
              "</table>\n",
              "</div>"
            ],
            "text/plain": [
              "         XA        YA        ZA        XL        YL        ZL\n",
              "0  0.027669  0.008776  0.008341 -0.362846  0.549172 -0.124703\n",
              "1 -0.033511  0.012216 -0.000151  0.009807  0.441299 -0.389483\n",
              "2  0.012266 -0.007867 -0.003631 -0.264780  0.137293 -0.212963\n",
              "3  0.061616 -0.013745 -0.007604 -0.254973  0.294200 -0.242383\n",
              "4  0.037237  0.046223  0.023627  0.019613  0.647239 -0.477743"
            ]
          },
          "metadata": {
            "tags": []
          },
          "execution_count": 13
        }
      ]
    },
    {
      "cell_type": "code",
      "metadata": {
        "id": "H7DO0HSJCbTB",
        "colab_type": "code",
        "colab": {}
      },
      "source": [
        "''' for preprocessing we just scale all the 6 features in our dataset into the range (-1 to 1)\n",
        "using the MinMaxScaler from sklearn library and then we create a scaled version of the training dataset\n",
        "named as imu_norm_6_s where the _s represents the scaled version\n",
        "'''\n",
        "scaler=MinMaxScaler(feature_range=(-1,1))\n",
        "scaler.fit(imu_norm_6)\n",
        "imu_norm_6_s=pd.DataFrame(scaler.transform(imu_norm_6))"
      ],
      "execution_count": 0,
      "outputs": []
    },
    {
      "cell_type": "code",
      "metadata": {
        "id": "bkFH6JWuaCeh",
        "colab_type": "code",
        "outputId": "ab9ee8db-5176-4e91-9887-c0082114bdf3",
        "colab": {
          "base_uri": "https://localhost:8080/",
          "height": 195
        }
      },
      "source": [
        "imu_norm_6_s.head()\n"
      ],
      "execution_count": 15,
      "outputs": [
        {
          "output_type": "execute_result",
          "data": {
            "text/html": [
              "<div>\n",
              "<style scoped>\n",
              "    .dataframe tbody tr th:only-of-type {\n",
              "        vertical-align: middle;\n",
              "    }\n",
              "\n",
              "    .dataframe tbody tr th {\n",
              "        vertical-align: top;\n",
              "    }\n",
              "\n",
              "    .dataframe thead th {\n",
              "        text-align: right;\n",
              "    }\n",
              "</style>\n",
              "<table border=\"1\" class=\"dataframe\">\n",
              "  <thead>\n",
              "    <tr style=\"text-align: right;\">\n",
              "      <th></th>\n",
              "      <th>0</th>\n",
              "      <th>1</th>\n",
              "      <th>2</th>\n",
              "      <th>3</th>\n",
              "      <th>4</th>\n",
              "      <th>5</th>\n",
              "    </tr>\n",
              "  </thead>\n",
              "  <tbody>\n",
              "    <tr>\n",
              "      <th>0</th>\n",
              "      <td>0.251706</td>\n",
              "      <td>0.029385</td>\n",
              "      <td>0.181397</td>\n",
              "      <td>-0.070524</td>\n",
              "      <td>0.400000</td>\n",
              "      <td>-0.217910</td>\n",
              "    </tr>\n",
              "    <tr>\n",
              "      <th>1</th>\n",
              "      <td>0.132675</td>\n",
              "      <td>0.038066</td>\n",
              "      <td>0.159944</td>\n",
              "      <td>0.066908</td>\n",
              "      <td>0.357692</td>\n",
              "      <td>-0.379104</td>\n",
              "    </tr>\n",
              "    <tr>\n",
              "      <th>2</th>\n",
              "      <td>0.221738</td>\n",
              "      <td>-0.012623</td>\n",
              "      <td>0.151153</td>\n",
              "      <td>-0.034358</td>\n",
              "      <td>0.238462</td>\n",
              "      <td>-0.271642</td>\n",
              "    </tr>\n",
              "    <tr>\n",
              "      <th>3</th>\n",
              "      <td>0.317750</td>\n",
              "      <td>-0.027461</td>\n",
              "      <td>0.141116</td>\n",
              "      <td>-0.030741</td>\n",
              "      <td>0.300000</td>\n",
              "      <td>-0.289552</td>\n",
              "    </tr>\n",
              "    <tr>\n",
              "      <th>4</th>\n",
              "      <td>0.270320</td>\n",
              "      <td>0.123902</td>\n",
              "      <td>0.220013</td>\n",
              "      <td>0.070524</td>\n",
              "      <td>0.438462</td>\n",
              "      <td>-0.432836</td>\n",
              "    </tr>\n",
              "  </tbody>\n",
              "</table>\n",
              "</div>"
            ],
            "text/plain": [
              "          0         1         2         3         4         5\n",
              "0  0.251706  0.029385  0.181397 -0.070524  0.400000 -0.217910\n",
              "1  0.132675  0.038066  0.159944  0.066908  0.357692 -0.379104\n",
              "2  0.221738 -0.012623  0.151153 -0.034358  0.238462 -0.271642\n",
              "3  0.317750 -0.027461  0.141116 -0.030741  0.300000 -0.289552\n",
              "4  0.270320  0.123902  0.220013  0.070524  0.438462 -0.432836"
            ]
          },
          "metadata": {
            "tags": []
          },
          "execution_count": 15
        }
      ]
    },
    {
      "cell_type": "markdown",
      "metadata": {
        "id": "lylhVkbZqADp",
        "colab_type": "text"
      },
      "source": [
        "imu_norm_6_s: (551, 6)"
      ]
    },
    {
      "cell_type": "markdown",
      "metadata": {
        "id": "Vfyrgz9_1Ok5",
        "colab_type": "text"
      },
      "source": [
        "#**LSTM_AUTOENCOER**"
      ]
    },
    {
      "cell_type": "markdown",
      "metadata": {
        "id": "E58RJrXRLf-l",
        "colab_type": "text"
      },
      "source": [
        "###1. Creating X_train and Y_train"
      ]
    },
    {
      "cell_type": "code",
      "metadata": {
        "id": "W37W6HXDLd2j",
        "colab_type": "code",
        "colab": {}
      },
      "source": [
        "''' here we take the imu_norm_s and create our x_train and y_train suitable to our model\n",
        "the model is created such as to reconstruct three consecutive vectors, so a\n",
        "window of length 3 slides through the sequence and it is appended to the x_train array\n",
        "''' \n",
        "z=np.array(imu_norm_6_s)\n",
        "look_back=3\n",
        "x_train=[]\n",
        "y_train=[]\n",
        "\n",
        "for i in range(len(z)-look_back+1):\n",
        "    temp=[]\n",
        "    for j in range(look_back):\n",
        "        temp.append(z[i+j])\n",
        "    x_train.append(temp)\n",
        "  \n",
        "x_train=np.array(x_train)\n",
        "\n",
        "y_train=x_train # note that in an autoencoder the input and the output will be the same\n",
        "\n",
        "# print(\"x_train: \",x_train.shape)\n",
        "# print(\"y_train: \",y_train.shape)"
      ],
      "execution_count": 0,
      "outputs": []
    },
    {
      "cell_type": "markdown",
      "metadata": {
        "id": "IFbn-n_5pu10",
        "colab_type": "text"
      },
      "source": [
        "x_train:  (549, 3, 6)\n",
        "\n",
        "y_train:  (549, 3, 6)"
      ]
    },
    {
      "cell_type": "markdown",
      "metadata": {
        "id": "6uCzvVOkMd9L",
        "colab_type": "text"
      },
      "source": [
        "###2. MODEL BUILDING\n",
        "---\n",
        "Further details regarding this model is provided in the Report\n",
        "\n",
        "---"
      ]
    },
    {
      "cell_type": "code",
      "metadata": {
        "id": "f0yq12PiG-Ud",
        "colab_type": "code",
        "colab": {}
      },
      "source": [
        "time_step=look_back #=3\n",
        "n_features=6\n",
        "model=Sequential()\n",
        "model.add(LSTM(128,activation=\"tanh\",batch_input_shape=(None,time_step,n_features),return_sequences=True))\n",
        "model.add(LSTM(64,activation=\"tanh\",batch_input_shape=(None,time_step,n_features),return_sequences=False))\n",
        "model.add(RepeatVector(time_step))\n",
        "model.add(LSTM(64,activation=\"tanh\",batch_input_shape=(None,time_step,n_features),return_sequences=True))\n",
        "model.add(LSTM(128,activation=\"tanh\",batch_input_shape=(None,time_step,n_features),return_sequences=True))\n",
        "model.add(TimeDistributed(Dense(n_features,activation=\"sigmoid\")))\n",
        "model.summary()\n",
        "# plot_model(model, to_file='Submission_LSTM_autoencoder.png', show_shapes=True,show_layer_names=False)\n",
        "model.compile(optimizer=optimizers.adam(lr=0.01),loss=\"mse\")\n",
        "# model.fit(x_train,y_train,epochs=500) # uncomment this to train the model again\n",
        "# model.save(\"/content/drive/My Drive/SP CUP 2020/IMU/Submission_LSTM_autoencoder.hdf5\")\n",
        "\n"
      ],
      "execution_count": 0,
      "outputs": []
    },
    {
      "cell_type": "markdown",
      "metadata": {
        "id": "MqmnxMnW1-K0",
        "colab_type": "text"
      },
      "source": [
        "---\n",
        "Loading the already trained and saved model\n",
        "\n",
        "---"
      ]
    },
    {
      "cell_type": "code",
      "metadata": {
        "id": "gZmXdsqKDbdD",
        "colab_type": "code",
        "colab": {}
      },
      "source": [
        "''' in the load model the path to the Submission_LSTM_autoencoder.hdf5 must be specified\n",
        "'''\n",
        "model=load_model(\"/content/drive/My Drive/SP CUP 2020/IMU/Submission_LSTM_autoencoder.hdf5\");\n",
        "plot_model(model, to_file='Submission_LSTM_autoencoder.png', show_shapes=True,show_layer_names=False,dpi=80);\n"
      ],
      "execution_count": 0,
      "outputs": []
    },
    {
      "cell_type": "markdown",
      "metadata": {
        "id": "zEw0OzOMMxcK",
        "colab_type": "text"
      },
      "source": [
        "### 3. THRESHOLD FINDING\n",
        "---\n",
        "As described under **NOTE** normal-0 is used to find the threshold of a-error and l-error-.Please refer to the report for detais about a-error and l-error\n",
        "\n",
        "---"
      ]
    },
    {
      "cell_type": "markdown",
      "metadata": {
        "id": "xZB0oVt_-fSP",
        "colab_type": "text"
      },
      "source": [
        "### 3.1 Finding a_error and l_error in the normal-0"
      ]
    },
    {
      "cell_type": "code",
      "metadata": {
        "id": "LDN0CSZZMtns",
        "colab_type": "code",
        "colab": {}
      },
      "source": [
        "''' here we prepare x_train and y_train for the data in normal-0 named \n",
        "x_thresh and y_thresh here, use the model trained above to find the reconstruction error\n",
        "using the Mean Absolute Error.\n",
        "a-error and l-error are found separately so that in the next task, we can find a threshold for these\n",
        "values so that they can used to classify the timestamps as normal or abnormal\n",
        "'''\n",
        "numb=0\n",
        "x_t= pd.DataFrame()\n",
        "for num in [numb]:\n",
        "    data_dir = folders_norm[num]\n",
        "    df=pd.read_csv(data_dir)\n",
        "    for i in range(len(df)):\n",
        "       \n",
        "        xa=df[\"x.1\"][i]\n",
        "        ya=df[\"y.1\"][i]\n",
        "        za=df[\"z.1\"][i]\n",
        "        xl=df[\"x.2\"][i]\n",
        "        yl=df[\"y.2\"][i]\n",
        "        zl=df[\"z.2\"][i]-10\n",
        "        \n",
        "        imu=np.array([xa,ya,za,xl,yl,zl])\n",
        "        imu_df=pd.DataFrame(imu.reshape(1,len(imu)))\n",
        "        imu_df.index=[str(i)]\n",
        "        x_t=x_t.append(imu_df)\n",
        "      \n",
        "x_t.columns=[\"XA\",\"YA\",\"ZA\",\"XL\",\"YL\",\"ZL\"]\n",
        "x_t_s=pd.DataFrame(scaler.transform(x_t))\n",
        "\n",
        "x_t.describe()\n",
        "z=np.array(x_t_s)\n",
        "look_back=3\n",
        "x_thresh=[]\n",
        "y_thresh=[]\n",
        "\n",
        "for i in range(len(z)-look_back+1):\n",
        "    temp=[]\n",
        "    for j in range(look_back):\n",
        "        temp.append(z[i+j])\n",
        "    x_thresh.append(temp)\n",
        "  \n",
        "x_thresh=np.array(x_thresh)\n",
        "\n",
        "y_thresh=x_thresh\n",
        "\n",
        "# print(\"x_thresh: \",x_thresh.shape)\n",
        "# print(\"y_test: \",y_thresh.shape)\n",
        "\n",
        "x_pred = model.predict(x_thresh)  # here we recontruct all the x_thresh\n",
        "\n",
        "a_error=[]\n",
        "l_error=[]\n",
        "for i in range(len(x_thresh)):\n",
        "    mean_error_in_three_timesteps=np.mean(np.abs(x_pred[i]-y_thresh[i]),axis=0)# here we find the MAE in the three timesteps, this is the error vector with dimension 6\n",
        "    a=np.mean(np.abs(mean_error_in_three_timesteps[:3]),axis=0) # we find the MAE in the angular velocity in the three directions \n",
        "    l=np.mean(np.abs(mean_error_in_three_timesteps[3:]),axis=0)# we find the MAE in the linear acceleration in the three direction\n",
        "    a_error.append(a)\n",
        "    l_error.append(l)                                                            # we find these errors separately so that we can know which sensor led to the abnormality                                               \n",
        "    \n",
        "\n",
        "a_error=np.array(a_error)\n",
        "l_error=np.array(l_error)\n",
        "   \n",
        "\n",
        "# print(\"a_error \",a_error.shape)\n",
        "# print(\"l_error \",l_error.shape)"
      ],
      "execution_count": 0,
      "outputs": []
    },
    {
      "cell_type": "markdown",
      "metadata": {
        "id": "Ha9plR7S3Wwb",
        "colab_type": "text"
      },
      "source": [
        "x_test:  (300, 3, 6)\n",
        "\n",
        "y_test:  (300, 3, 6)\n",
        "\n",
        "a_error  (300,)\n",
        "\n",
        "l_error  (300,)"
      ]
    },
    {
      "cell_type": "markdown",
      "metadata": {
        "id": "6bT_ZQj7TJ78",
        "colab_type": "text"
      },
      "source": [
        "###3.2 Defined below is the get_best_distribution functions for fitting the perfectstatistical distribution on a-error and l-error"
      ]
    },
    {
      "cell_type": "code",
      "metadata": {
        "id": "8RRq7If8JDyj",
        "colab_type": "code",
        "colab": {}
      },
      "source": [
        "\n",
        "import warnings\n",
        "warnings.filterwarnings('ignore')\n",
        "import io\n",
        "import numpy as np\n",
        "import pandas as pd\n",
        "import scipy.stats as stats\n",
        "import matplotlib\n",
        "import matplotlib.pyplot as plt\n",
        "\n",
        "def get_best_distribution(data):\n",
        "    dist_names = [\"norm\", \"exponweib\", \"weibull_max\", \"weibull_min\", \"pareto\", \"genextreme\",\"beta\",\"betaprime\",\"bradford\",\"burr\",\"burr12\",\"cauchy\",\"chi\",\"chi2\",\"cosine\",\"dgamma\",\"alpha\",\n",
        "                  \"dweibull\",\"erlang\",\"expon\",\"exponweib\",\"exponpow\",\"fatiguelife\",\"fisk\",\n",
        "                  \"cauchy\",\"foldnorm\",\"f\",\"genlogistic\",\"gamma\",\"genpareto\",\"genexpon\",\"genextreme\",\n",
        "                  \"gengamma\",\"genhalflogistic\",\"gennorm\",\"gilbrat\",\"gompertz\",\"gumbel_r\",\n",
        "                  \"gumbel_l\",\"halfcauchy\",\"halfnorm\",\"halflogistic\",\"hypsecant\",\"gausshyper\",\"invgamma\",\"invgauss\",\n",
        "                  \"invweibull\",\"johnsonsb\",\"ksone\",\"kstwobign\",\"levy_l\",\n",
        "                  \"levy\",\"loglaplace\",\"loggamma\",\"lognorm\",\"maxwell\",\"mielke\",\n",
        "                  \"nakagami\",\"ncx2\",\"pareto\",\"lomax\",\"powernorm\",\n",
        "                  \"powerlaw\",\"rdist\",\"rayleigh\",\"rice\",\"recipinvgauss\",\"semicircular\",\n",
        "                  \"t\",\"trapz\",\"triang\",\"truncexpon\",\"truncnorm\",\n",
        "                  \"tukeylambda\",\"vonmises\",\"uniform\",\"wald\",\"weibull_max\",\"weibull_min\",\"logistic\",\"nct\",\"norminvgauss\",\"johnsonsu\"]#,\"johnsonsu\"\n",
        "\n",
        "    dist_results = []\n",
        "    params = {}\n",
        "    for dist_name in dist_names:\n",
        "        dist = getattr(stats, dist_name)\n",
        "        param = dist.fit(data)\n",
        "\n",
        "        params[dist_name] = param\n",
        "        # Applying the Kolmogorov-Smirnov test\n",
        "        D, p = stats.kstest(data, dist_name, args=param)\n",
        "        #print(\"p value for \"+dist_name+\" = \"+str(p))\n",
        "        dist_results.append((dist_name, p))\n",
        "\n",
        "    # select the best fitted distribution\n",
        "    best_dist, best_p = (max(dist_results, key=lambda item: item[1]))\n",
        "    # store the name of the best fit and its p value\n",
        "\n",
        "    # print(\"Best fitting distribution: \"+str(best_dist))\n",
        "    # print(\"Best p value: \"+ str(best_p))\n",
        "    # print(\"Parameters for the best fit: \"+ str(params[best_dist]))\n",
        "\n",
        "    return best_dist, best_p, params[best_dist]\n",
        "\n",
        "%matplotlib inline\n",
        "\n",
        "\n",
        "matplotlib.rcParams['figure.figsize'] = (16.0, 14.0)\n",
        "matplotlib.style.use('ggplot')\n",
        "\n",
        "'''This function can be used to plot the histogram of the a-error and l-error and the original distribution on the same figure'''\n",
        "def Plot(data,dist):\n",
        "    bins = 100\n",
        "    size = 16384\n",
        "    DISTRIBUTIONS = [dist]\n",
        "    plotData = []\n",
        "    for distribution in DISTRIBUTIONS:\n",
        "        # Create random data\n",
        "        rv = pd.Series(data)\n",
        "        # Get sane start and end points of distribution\n",
        "        start = distribution.ppf(0)\n",
        "        end = distribution.ppf(0.99)\n",
        "\n",
        "        # Build PDF and turn into pandas Series\n",
        "        x = np.linspace(start, end, size)\n",
        "        y = distribution.pdf(x)\n",
        "        pdf = pd.Series(y, x)\n",
        "\n",
        "        # Get histogram of random data\n",
        "        b = np.linspace(start, end, bins+1)\n",
        "        y, x = np.histogram(rv, bins=b, normed=True)\n",
        "        x = [(a+x[i+1])/2.0 for i,a in enumerate(x[0:-1])]\n",
        "        hist = pd.Series(y, x)\n",
        "\n",
        "        # Create distribution name and parameter string\n",
        "        title = '{}({})'.format(distribution.dist.name, ', '.join(['{}={:0.2f}'.format(k,v) for k,v in distribution.kwds.items()]))\n",
        "\n",
        "        # Store data for later\n",
        "        plotData.append({\n",
        "        'pdf': pdf,\n",
        "        'hist': hist,\n",
        "        'title': title\n",
        "        })\n",
        "\n",
        "\n",
        "        plotMax = len(plotData)\n",
        "\n",
        "    for i, data in enumerate(plotData):\n",
        "        w = abs(abs(data['hist'].index[0]) - abs(data['hist'].index[1]))\n",
        "\n",
        "        # Display\n",
        "        plt.figure(figsize=(10, 6))\n",
        "        ax = data['pdf'].plot(kind='line', label='Model PDF', legend=True, lw=2)\n",
        "        ax.bar(data['hist'].index, data['hist'].values, label='Random Sample', width=w, align='center', alpha=0.5)\n",
        "        ax.set_title(data['title'])\n",
        "        plt.savefig(\"linear_acceleration_reconstruction_error\")\n",
        "\n"
      ],
      "execution_count": 0,
      "outputs": []
    },
    {
      "cell_type": "markdown",
      "metadata": {
        "id": "pefmwhYBx7Xu",
        "colab_type": "text"
      },
      "source": [
        "### 3.21 Finding the threshold for a-error ->tang(takes some time)"
      ]
    },
    {
      "cell_type": "code",
      "metadata": {
        "id": "Iqyk-hQMTZMr",
        "colab_type": "code",
        "colab": {
          "base_uri": "https://localhost:8080/",
          "height": 70
        },
        "outputId": "a90f8742-c2d1-40b5-b6b2-6d4ab4a323cb"
      },
      "source": [
        "'''this function is going to return the best distribution and the parameters for the distribution, we need to\n",
        "copy and paste both to the next cell's \"valid\" variable\n",
        "'''\n",
        "d=a_error\n",
        "get_best_distribution(d)\n"
      ],
      "execution_count": 28,
      "outputs": [
        {
          "output_type": "execute_result",
          "data": {
            "text/plain": [
              "('fatiguelife',\n",
              " 6.930775052716663e-07,\n",
              " (2.053607199072348, 0.022963572626635686, 0.01900377655327603))"
            ]
          },
          "metadata": {
            "tags": []
          },
          "execution_count": 28
        }
      ]
    },
    {
      "cell_type": "code",
      "metadata": {
        "id": "0stfJDzFTeGQ",
        "colab_type": "code",
        "outputId": "3b1bcda7-3aba-46a1-f1fc-087601d1cf8c",
        "colab": {
          "base_uri": "https://localhost:8080/",
          "height": 34
        }
      },
      "source": [
        "'''from the output of the above cell, the name of the distribution and the parameters are used in the valid variable,\n",
        "to find the threshold using stats.\"name_of_distribution\"(parameters)\n",
        "'''\n",
        "valid = stats.fatiguelife(2.053607199072348, 0.022963572626635686, 0.01900377655327603)\n",
        "# Plot(d,valid) # this is to plot the histogram of the data along with the fitted distribution\n",
        "threshold=valid.ppf(0.95)\n",
        "tang=threshold\n",
        "print(threshold)"
      ],
      "execution_count": 29,
      "outputs": [
        {
          "output_type": "stream",
          "text": [
            "0.2763809324335767\n"
          ],
          "name": "stdout"
        }
      ]
    },
    {
      "cell_type": "markdown",
      "metadata": {
        "id": "EIR_Z6XVNRO9",
        "colab_type": "text"
      },
      "source": [
        "### 3.22 Finding the threshold for l-error ->tlin(takes some time)"
      ]
    },
    {
      "cell_type": "code",
      "metadata": {
        "id": "gMlFH-bRNUR9",
        "colab_type": "code",
        "outputId": "e117d8f4-1239-40c6-820e-8e025996270e",
        "colab": {
          "base_uri": "https://localhost:8080/",
          "height": 122
        }
      },
      "source": [
        "'''this function is going to return the best distribution and the parameters for the distribution, we need to\n",
        "copy and paste both to the next cell's \"valid\" variable\n",
        "'''\n",
        "d=l_error\n",
        "get_best_distribution(d)\n"
      ],
      "execution_count": 30,
      "outputs": [
        {
          "output_type": "execute_result",
          "data": {
            "text/plain": [
              "('johnsonsu',\n",
              " 0.0007865842873056234,\n",
              " (-0.8966901568949843,\n",
              "  0.4457298938858065,\n",
              "  0.16624892034896624,\n",
              "  0.0024331917358663586))"
            ]
          },
          "metadata": {
            "tags": []
          },
          "execution_count": 30
        }
      ]
    },
    {
      "cell_type": "code",
      "metadata": {
        "id": "oGYOI7lTNcOz",
        "colab_type": "code",
        "colab": {
          "base_uri": "https://localhost:8080/",
          "height": 34
        },
        "outputId": "2c26d80f-1e89-4e1a-8886-bfe99a20ff81"
      },
      "source": [
        "'''from the output of the above cell, the name of the distribution and the parameters are used in the valid variable,\n",
        "to find the threshold using stats.\"name_of_distribution\"(parameters)\n",
        "'''\n",
        "valid = stats.johnsonsu(-0.8966901568949843,\n",
        "  0.4457298938858065,\n",
        "  0.16624892034896624,\n",
        "  0.0024331917358663586)\n",
        "# Plot(d,valid) # this is to plot the histogram of the data along with the fitted distribution\n",
        "threshold=valid.ppf(0.95)\n",
        "tlin=threshold\n",
        "print(threshold)"
      ],
      "execution_count": 32,
      "outputs": [
        {
          "output_type": "stream",
          "text": [
            "0.5305670351209596\n"
          ],
          "name": "stdout"
        }
      ]
    },
    {
      "cell_type": "markdown",
      "metadata": {
        "id": "U-I0f52HNh8f",
        "colab_type": "text"
      },
      "source": [
        "Note that when using the lstm autoencoder model,\"Submission_LSTM_autoencoder.hdf5\" submitted to the competition, we will receive the same threshold below.\n",
        "If the organizers wish to retrain the models and check, due to random initializations of the weights, the distribution of the errors might change slightly, due to which the exact same threshold values will not be obtained."
      ]
    },
    {
      "cell_type": "code",
      "metadata": {
        "id": "NnnrjreNKjSp",
        "colab_type": "code",
        "colab": {}
      },
      "source": [
        "tang=0.2763809324335767\n",
        "tlin=0.5305670351209596"
      ],
      "execution_count": 0,
      "outputs": []
    },
    {
      "cell_type": "markdown",
      "metadata": {
        "id": "oXatoOCFuLpH",
        "colab_type": "text"
      },
      "source": [
        "###4. Model Evaluation"
      ]
    },
    {
      "cell_type": "markdown",
      "metadata": {
        "id": "LyKjWf9jK2VM",
        "colab_type": "text"
      },
      "source": [
        "###4.1 Evaluating the model on the normal bags\n",
        "---\n",
        "\n",
        "Finding the accuracy of the model on the normal-5 bag file which was used neither in the training nor in the threshold finding\n",
        "\n",
        "---\n",
        "Since a ground truth at each timestamp was not given in the competition, to evaluate our model, we check how good the model predictions are on the normal bag, by changing the \"normal_bag\" variable we can check the accuracy using the following equation:\n",
        "\n",
        "accuracy=(no of timestamps classified as \"normal\")/(total number of timestamps in the normal bag)\n",
        "\n",
        "---\n"
      ]
    },
    {
      "cell_type": "code",
      "metadata": {
        "id": "hbjGgMGkLgoq",
        "colab_type": "code",
        "outputId": "649b0d6d-3c92-4e17-fc21-403ccc8ff570",
        "colab": {
          "base_uri": "https://localhost:8080/",
          "height": 70
        }
      },
      "source": [
        "imu_norm_test = pd.DataFrame()\n",
        "normal_bag=5\n",
        "for num in [normal_bag]:\n",
        "    data_dir = folders_norm[num]\n",
        "    df=pd.read_csv(data_dir)\n",
        "    imu_norm_test=df[[\"x.1\",\"y.1\",\"z.1\",\"x.2\",\"y.2\",\"z.2\"]]\n",
        "    imu_norm_test[\"z.2\"]=imu_norm_test[\"z.2\"] -10\n",
        "    imu_norm_test.columns=[\"XA\",\"YA\",\"ZA\",\"XL\",\"YL\",\"ZL\"]\n",
        "    # print(imu_norm_test)\n",
        "   \n",
        "ab=scaler.transform(imu_norm_test)\n",
        "imu_norm_test_s=pd.DataFrame(ab,columns=[\"XA\",\"YA\",\"ZA\",\"XL\",\"YL\",\"ZL\"])\n",
        "zt=np.array(imu_norm_test_s)\n",
        "\n",
        "x_test=[]\n",
        "y_test=[]\n",
        "\n",
        "for i in range(len(zt)-look_back+1):\n",
        "    temp=[]\n",
        "    for j in range(look_back):\n",
        "        temp.append(zt[i+j])\n",
        "    x_test.append(temp)\n",
        "\n",
        "x_test=np.array(x_test)\n",
        "\n",
        "''' In the code below, we compare the reconstructed input with the original input, both 2 dimensional arrays (3 x 6), and get the MAE(mean absolute error), then\n",
        "we again take the mean absolute error of the three timesteps forming an error vector with dimensions (6x1), the MAE in the first three elements of this error vector \n",
        "is referred as a-error(error in angular velocity) and the MAE in the last three elements is referred as l-error(error in the linear_acceleration).\n",
        "'''\n",
        "\n",
        "print(x_test.shape)\n",
        "error_count=0\n",
        "total_count=len(x_test)\n",
        "for i in range(len(x_test)):\n",
        "    temp=x_test[i].reshape(1,3,6)\n",
        "    pred=model.predict(temp)\n",
        "    temp=temp.reshape(3,6)\n",
        "    pred=pred.reshape(3,6)\n",
        "    error_vector=np.mean(np.abs(temp-pred),axis=0)\n",
        "    a=np.mean(np.abs(error_vector[:3]),axis=0)\n",
        "    l=np.mean(np.abs(error_vector[3:]),axis=0)\n",
        "    # print(error_vector)\n",
        "    # print(l)\n",
        "    if a>tang or l>=tlin:\n",
        "        # print(\"yes\")\n",
        "        error_count=error_count+1\n",
        "print(tang,tlin)\n",
        "print(\"recall\",(total_count-error_count)/total_count)\n",
        "    "
      ],
      "execution_count": 37,
      "outputs": [
        {
          "output_type": "stream",
          "text": [
            "(140, 3, 6)\n",
            "0.2763809324335767 0.5305670351209596\n",
            "recall 0.8928571428571429\n"
          ],
          "name": "stdout"
        }
      ]
    },
    {
      "cell_type": "markdown",
      "metadata": {
        "id": "zmV-jO9aHj40",
        "colab_type": "text"
      },
      "source": [
        "---\n",
        "Note that in the normal bag all the timstamps are normal and in the abnormal bag there are abnormal and normal timestamps as well, since the ground truth for the abnormal bag was not provided we come up with our own groundtruth.The method in which the timestamps in the abnormal bag was annotated is described in the report.\n",
        "\n",
        "---"
      ]
    },
    {
      "cell_type": "markdown",
      "metadata": {
        "id": "jUdvCe-kIK4e",
        "colab_type": "text"
      },
      "source": [
        "###4.2 Evaluating the model on the abnormal bags\n",
        "---\n",
        "At a particular timestamp in the abnormal bag, the angular acceleration can be abnormal, the linear_acceleration can be abnormal or both or None(normal timestamp). When coming up with the ground truth, we obtain two ground truth separately for the angular velocity and the linear acceleration.\n",
        "\n",
        "---"
      ]
    },
    {
      "cell_type": "markdown",
      "metadata": {
        "id": "nIviEhJyxQs2",
        "colab_type": "text"
      },
      "source": [
        "### 4.2.1 GROUND TRUTH FOR LINEAR ACCELERATION"
      ]
    },
    {
      "cell_type": "code",
      "metadata": {
        "id": "WGgeuxrACBik",
        "colab_type": "code",
        "colab": {}
      },
      "source": [
        "Truthl=[[None],[None],[None],[None],[None],[None]]\n",
        "Truthl[0]=['A', 'A', 'A', 'A', 'A','N', 'N', 'N', 'N', 'N', 'N', 'N', 'N', 'N', 'N', 'N', 'N', 'N','N', 'A', 'A', 'A', 'A', 'A', 'A', 'A', 'A', 'A', 'A', 'A', 'A','A', 'A', 'A', 'A', 'A', 'A', 'A']\n",
        "Truthl[1]=['N', 'N', 'N', 'N', 'N', 'N', 'N', 'N', 'N', 'N', 'N', 'N', 'A',\n",
        "       'N', 'A', 'A', 'A', 'N', 'A', 'A', 'N', 'N', 'A', 'N', 'A', 'A',\n",
        "       'A', 'A', 'A', 'A', 'A', 'A', 'A', 'A', 'A', 'A', 'A', 'A', 'A',\n",
        "       'A', 'A', 'A', 'A', 'A', 'A', 'A', 'A', 'A', 'A', 'A', 'A', 'A',\n",
        "       'A', 'A', 'A', 'A', 'A', 'A', 'N', 'N', 'N', 'A', 'A', 'A', 'N',\n",
        "       'N', 'A', 'A', 'A', 'A', 'A', 'A', 'A', 'N', 'A', 'A', 'N', 'A',\n",
        "       'A', 'A', 'A', 'A', 'A', 'A', 'A', 'A', 'A', 'A', 'A', 'A', 'A',\n",
        "       'A', 'A', 'A', 'A', 'N', 'A', 'A', 'A', 'N', 'N', 'N', 'A', 'A',\n",
        "       'A', 'A', 'A', 'A', 'A', 'A', 'A', 'A', 'A', 'A', 'A', 'A', 'A',\n",
        "       'A', 'N', 'A', 'N', 'A', 'N', 'A', 'A', 'A', 'A', 'A', 'N']\n",
        "Truthl[2]=['N', 'N', 'N', 'N', 'N', 'A', 'N', 'A', 'A', 'A', 'N', 'A', 'A',\n",
        "       'A', 'A', 'A', 'A', 'N', 'N', 'A', 'A', 'A', 'A', 'A', 'A', 'A',\n",
        "       'A', 'A', 'A', 'A', 'A', 'A', 'A', 'A', 'A', 'A', 'A', 'A', 'A',\n",
        "       'N', 'N', 'A', 'A', 'A', 'A', 'A', 'A', 'A', 'A', 'A', 'A', 'A',\n",
        "       'A', 'A', 'A', 'A', 'A', 'A', 'A', 'A', 'A', 'A', 'A', 'A', 'N',\n",
        "       'N', 'N', 'N', 'A', 'A', 'A', 'A', 'A', 'A', 'A', 'N', 'N', 'N',\n",
        "       'N', 'A', 'A', 'A', 'N', 'A', 'A', 'A', 'A', 'A', 'A', 'A', 'A',\n",
        "       'A', 'A', 'A', 'A', 'A', 'A', 'A', 'A', 'A', 'N', 'N', 'N', 'N',\n",
        "       'A', 'A', 'A', 'A', 'A', 'A', 'A', 'A', 'A', 'A', 'A', 'A', 'N',\n",
        "       'N', 'A', 'A', 'A', 'A', 'A', 'A', 'A', 'A', 'A', 'A', 'A', 'A',\n",
        "       'N', 'N', 'A', 'A', 'A', 'A', 'A', 'A', 'N', 'N', 'N', 'N', 'N',\n",
        "       'N']\n",
        "Truthl[3]=['N', 'A', 'A', 'A', 'A', 'N', 'N', 'N', 'A', 'A', 'A', 'A', 'N',\n",
        "       'A', 'A', 'A', 'N', 'N', 'A', 'A', 'N', 'N', 'N', 'A', 'A', 'A',\n",
        "       'A', 'A', 'A', 'A', 'A', 'A', 'A', 'A', 'A', 'A', 'A', 'A', 'A',\n",
        "       'A', 'A', 'A', 'A', 'A', 'A', 'A', 'A', 'A', 'A', 'A', 'A', 'A',\n",
        "       'A', 'A', 'A', 'A', 'A', 'A', 'A', 'A', 'A', 'A', 'A', 'N', 'A',\n",
        "       'A', 'A', 'A', 'A', 'A', 'N', 'A', 'A', 'A', 'A', 'N', 'N', 'A',\n",
        "       'A', 'A', 'A', 'A', 'A', 'A', 'A', 'A', 'A', 'A', 'N', 'A', 'A',\n",
        "       'A', 'A', 'A', 'A', 'A', 'A', 'A', 'A', 'A', 'N', 'A', 'A', 'A',\n",
        "       'A', 'N', 'N', 'A', 'A', 'A', 'A', 'A', 'N', 'A', 'A', 'A', 'N',\n",
        "       'A', 'A', 'A', 'N', 'A', 'A', 'A', 'A', 'A', 'A', 'A', 'A', 'A',\n",
        "       'A', 'A', 'A', 'A', 'N', 'N', 'N', 'N', 'N', 'N', 'N', 'N', 'N',\n",
        "       'N', 'N', 'N']\n",
        "Truthl[4]=['N', 'N', 'N', 'N', 'N', 'N', 'N', 'N', 'N', 'N', 'A', 'N', 'N',\n",
        "       'A', 'A', 'A', 'A', 'N', 'N', 'A', 'A', 'A', 'A', 'A', 'A', 'A',\n",
        "       'A', 'A', 'A', 'A', 'A', 'A', 'A', 'A', 'A', 'A', 'A', 'A', 'A',\n",
        "       'A', 'A', 'A', 'A', 'A', 'A', 'A', 'A', 'A', 'A', 'A', 'A', 'A',\n",
        "       'A', 'A', 'A', 'A', 'A', 'A', 'A', 'A', 'A', 'A', 'A', 'A', 'A',\n",
        "       'A', 'A', 'A', 'A', 'A', 'A', 'A', 'A', 'A', 'A', 'A', 'N', 'A',\n",
        "       'A', 'A', 'A', 'A', 'A', 'A', 'A', 'A', 'A', 'A', 'A', 'A', 'A',\n",
        "       'A', 'A', 'A', 'A', 'A', 'A', 'A', 'A', 'A', 'A', 'A', 'A', 'A',\n",
        "       'A', 'A', 'A', 'A', 'A', 'A', 'A', 'A', 'A', 'A', 'A', 'A', 'A',\n",
        "       'A', 'A', 'A', 'A', 'A', 'A', 'A', 'A', 'A', 'A', 'A', 'A', 'A',\n",
        "       'A', 'A', 'A', 'A', 'A', 'A']\n",
        "Truthl[5]=['N', 'N', 'N', 'N', 'N', 'N', 'A', 'A', 'A', 'A', 'A', 'A', 'N',\n",
        "       'N', 'A', 'A', 'A', 'A', 'A', 'A', 'A', 'A', 'A', 'A', 'A', 'A',\n",
        "       'A', 'A', 'A', 'A', 'A', 'A', 'A', 'A', 'A', 'A', 'A', 'A', 'A',\n",
        "       'A', 'A', 'A', 'A', 'A', 'A', 'A', 'A', 'A', 'A', 'A', 'A', 'A',\n",
        "       'A', 'A', 'A', 'A', 'A', 'A', 'A', 'A', 'A', 'A', 'A', 'A', 'A',\n",
        "       'A', 'A', 'A', 'A', 'A', 'A', 'N', 'A', 'A', 'A', 'A', 'A', 'A',\n",
        "       'A', 'N', 'A', 'A', 'A', 'A', 'A', 'A', 'A', 'A', 'A', 'A', 'A',\n",
        "       'A', 'A', 'A', 'A', 'A', 'A', 'A', 'A', 'A', 'A', 'A', 'A', 'N',\n",
        "       'A', 'A', 'A', 'A', 'A', 'A', 'A', 'A', 'A', 'A', 'A', 'A', 'A',\n",
        "       'A', 'A', 'A', 'A', 'A', 'N', 'N', 'N', 'A', 'A', 'A', 'A', 'A',\n",
        "       'A', 'A', 'A', 'A', 'A', 'A', 'A', 'A', 'A', 'A', 'A', 'A', 'A',\n",
        "       'A', 'A', 'A', 'A', 'A', 'A', 'A', 'A', 'A', 'A', 'A', 'A', 'A',\n",
        "       'A']\n"
      ],
      "execution_count": 0,
      "outputs": []
    },
    {
      "cell_type": "markdown",
      "metadata": {
        "id": "boOs133ygwsu",
        "colab_type": "text"
      },
      "source": [
        "###4.2.2 GROUND TRUTH FOR ANGULAR VELOCTY"
      ]
    },
    {
      "cell_type": "code",
      "metadata": {
        "id": "M6Q1YMekgtYZ",
        "colab_type": "code",
        "colab": {}
      },
      "source": [
        "Trutha=[[None],[None],[None],[None],[None],[None]]\n",
        "Trutha[0]=['A', 'A', 'A', 'A', 'A','N', 'N', 'N', 'N', 'N', 'N', 'N', 'N', 'N', 'N', 'N', 'N', 'N',\n",
        "       'A', 'A', 'A', 'A', 'A', 'A', 'A', 'A', 'A', 'A', 'A', 'A', 'A',\n",
        "       'A', 'N', 'N', 'A', 'A', 'A', 'A']\n",
        "Trutha[1]=['N', 'N', 'N', 'N', 'N', 'N', 'N', 'N', 'N', 'N', 'N', 'A', 'A',\n",
        "       'A', 'A', 'N', 'A', 'A', 'A', 'A', 'A', 'A', 'A', 'A', 'A', 'A',\n",
        "       'A', 'N', 'N', 'A', 'A', 'A', 'A', 'A', 'A', 'N', 'N', 'A', 'A',\n",
        "       'A', 'A', 'A', 'N', 'N', 'N', 'A', 'N', 'N', 'N', 'N', 'N', 'A',\n",
        "       'N', 'N', 'A', 'A', 'A', 'A', 'A', 'A', 'A', 'A', 'A', 'A', 'A',\n",
        "       'A', 'A', 'A', 'N', 'A', 'A', 'A', 'A', 'A', 'A', 'A', 'A', 'A',\n",
        "       'A', 'A', 'A', 'A', 'A', 'N', 'A', 'A', 'A', 'A', 'A', 'A', 'A',\n",
        "       'A', 'A', 'N', 'A', 'A', 'A', 'A', 'A', 'A', 'A', 'A', 'A', 'A',\n",
        "       'A', 'N', 'A', 'N', 'A', 'A', 'A', 'A', 'A', 'A', 'A', 'A', 'A',\n",
        "       'A', 'A', 'A', 'N', 'N', 'A', 'A', 'A', 'A', 'A', 'A', 'A']\n",
        "Trutha[2]=['N', 'N', 'N', 'N', 'N', 'N', 'N', 'A', 'A', 'A', 'A', 'A', 'A',\n",
        "       'A', 'A', 'A', 'A', 'A', 'A', 'N', 'A', 'A', 'A', 'A', 'A', 'A',\n",
        "       'N', 'A', 'N', 'N', 'N', 'N', 'A', 'A', 'A', 'A', 'A', 'A', 'A',\n",
        "       'A', 'A', 'A', 'A', 'A', 'A', 'A', 'A', 'A', 'N', 'A', 'A', 'A',\n",
        "       'A', 'A', 'A', 'A', 'A', 'N', 'A', 'A', 'A', 'A', 'A', 'A', 'N',\n",
        "       'N', 'A', 'A', 'A', 'A', 'A', 'N', 'A', 'A', 'A', 'A', 'A', 'A',\n",
        "       'A', 'A', 'A', 'A', 'A', 'A', 'A', 'A', 'N', 'A', 'N', 'N', 'N',\n",
        "       'N', 'A', 'A', 'A', 'A', 'A', 'A', 'A', 'A', 'A', 'A', 'N', 'A',\n",
        "       'A', 'A', 'A', 'A', 'A', 'A', 'A', 'A', 'A', 'A', 'A', 'A', 'A',\n",
        "       'A', 'A', 'A', 'A', 'A', 'A', 'A', 'A', 'A', 'A', 'A', 'A', 'A',\n",
        "       'A', 'A', 'A', 'A', 'A', 'A', 'A', 'A', 'A', 'A', 'N', 'A', 'N',\n",
        "       'N']\n",
        "\n",
        "Trutha[3]=['A', 'A', 'N', 'A', 'A', 'A', 'A', 'A', 'A', 'N', 'A', 'A', 'A',\n",
        "       'A', 'A', 'A', 'A', 'A', 'A', 'A', 'A', 'A', 'A', 'A', 'A', 'A',\n",
        "       'A', 'N', 'N', 'N', 'N', 'N', 'A', 'A', 'A', 'A', 'A', 'A', 'A',\n",
        "       'A', 'A', 'A', 'A', 'A', 'A', 'A', 'A', 'A', 'A', 'A', 'A', 'A',\n",
        "       'A', 'N', 'N', 'N', 'N', 'A', 'A', 'A', 'A', 'A', 'A', 'A', 'A',\n",
        "       'A', 'A', 'A', 'A', 'A', 'A', 'A', 'A', 'A', 'A', 'A', 'A', 'A',\n",
        "       'N', 'N', 'A', 'A', 'A', 'A', 'N', 'A', 'A', 'A', 'A', 'A', 'A',\n",
        "       'A', 'A', 'N', 'N', 'A', 'A', 'A', 'A', 'A', 'A', 'A', 'A', 'A',\n",
        "       'A', 'A', 'A', 'N', 'N', 'N', 'A', 'A', 'A', 'A', 'A', 'A', 'A',\n",
        "       'A', 'A', 'A', 'A', 'A', 'A', 'N', 'N', 'N', 'A', 'A', 'A', 'A',\n",
        "       'A', 'A', 'A', 'A', 'A', 'A', 'A', 'A', 'N', 'N', 'N', 'N', 'N',\n",
        "       'N', 'N', 'N']\n",
        "Trutha[4]=['N', 'N', 'N', 'N', 'N', 'N', 'N', 'N', 'N', 'N', 'N', 'A', 'A',\n",
        "       'A', 'A', 'A', 'A', 'A', 'A', 'A', 'A', 'A', 'A', 'A', 'N', 'A',\n",
        "       'A', 'A', 'A', 'A', 'A', 'A', 'A', 'A', 'A', 'A', 'A', 'A', 'A',\n",
        "       'A', 'A', 'A', 'A', 'N', 'A', 'A', 'N', 'N', 'A', 'A', 'N', 'A',\n",
        "       'A', 'A', 'A', 'A', 'A', 'A', 'A', 'A', 'A', 'A', 'A', 'A', 'A',\n",
        "       'A', 'N', 'N', 'A', 'A', 'A', 'A', 'A', 'A', 'A', 'A', 'A', 'A',\n",
        "       'A', 'A', 'A', 'N', 'N', 'A', 'A', 'A', 'A', 'A', 'A', 'N', 'A',\n",
        "       'A', 'A', 'A', 'A', 'A', 'A', 'A', 'A', 'A', 'N', 'A', 'N', 'N',\n",
        "       'A', 'A', 'A', 'A', 'A', 'A', 'A', 'A', 'A', 'A', 'A', 'A', 'A',\n",
        "       'A', 'A', 'A', 'A', 'A', 'A', 'A', 'A', 'N', 'N', 'A', 'N', 'A',\n",
        "       'N', 'N', 'N', 'N', 'N', 'N']\n",
        " \n",
        "Trutha[5]=['N', 'N', 'N', 'N', 'N', 'N', 'A', 'A', 'A', 'A', 'A', 'A', 'A',\n",
        "       'A', 'A', 'A', 'A', 'A', 'A', 'N', 'N', 'N', 'A', 'A', 'A', 'A',\n",
        "       'A', 'A', 'A', 'A', 'A', 'A', 'A', 'A', 'A', 'A', 'A', 'A', 'A',\n",
        "       'A', 'A', 'A', 'A', 'A', 'A', 'A', 'A', 'A', 'A', 'A', 'A', 'A',\n",
        "       'A', 'N', 'N', 'A', 'A', 'A', 'A', 'A', 'A', 'A', 'N', 'A', 'A',\n",
        "       'A', 'A', 'A', 'A', 'A', 'A', 'A', 'A', 'A', 'N', 'N', 'A', 'A',\n",
        "       'A', 'A', 'A', 'A', 'A', 'A', 'A', 'A', 'A', 'A', 'A', 'N', 'A',\n",
        "       'A', 'A', 'A', 'A', 'A', 'A', 'A', 'A', 'A', 'A', 'A', 'A', 'A',\n",
        "       'A', 'A', 'A', 'N', 'A', 'A', 'A', 'A', 'A', 'A', 'A', 'A', 'A',\n",
        "       'A', 'A', 'A', 'A', 'A', 'A', 'A', 'A', 'A', 'A', 'A', 'A', 'A',\n",
        "       'A', 'A', 'A', 'A', 'A', 'A', 'N', 'N', 'N', 'A', 'A', 'A', 'N',\n",
        "       'A', 'A', 'A', 'A', 'A', 'A', 'A', 'A', 'A', 'A', 'A', 'A', 'A',\n",
        "       'N']"
      ],
      "execution_count": 0,
      "outputs": []
    },
    {
      "cell_type": "markdown",
      "metadata": {
        "id": "Y57LcinZK9Hm",
        "colab_type": "text"
      },
      "source": [
        "---\n",
        "while evaluating  on the abnormal bag, a timestamp is considered to be abnormal if either the angular velocity or the linear acceleration or both are predicted as abnormal.\n",
        "\n",
        "---"
      ]
    },
    {
      "cell_type": "code",
      "metadata": {
        "id": "lFNPKO7bA7hJ",
        "colab_type": "code",
        "outputId": "5279894e-7302-400f-d16b-78e6f32d608a",
        "colab": {
          "base_uri": "https://localhost:8080/",
          "height": 248
        }
      },
      "source": [
        "imu_abnorm_test = pd.DataFrame()\n",
        "for numb in [0]:\n",
        "    truthl=Truthl[numb]\n",
        "    trutha=Trutha[numb]\n",
        "    data_dir_ab = folders_abnorm[numb]\n",
        "    df_ab=pd.read_csv(data_dir_ab)\n",
        "    imu_abnorm_test=df_ab[[\"x.1\",\"y.1\",\"z.1\",\"x.2\",\"y.2\",\"z.2\"]]\n",
        "    imu_abnorm_test[\"z.2\"]=imu_abnorm_test[\"z.2\"] -10\n",
        "    imu_abnorm_test.columns=[\"XA\",\"YA\",\"ZA\",\"XL\",\"YL\",\"ZL\"]\n",
        "    # print(imu_norm_test)\n",
        "print(tang,tlin)  \n",
        "ab=scaler.transform(imu_abnorm_test)\n",
        "imu_abnorm_test_s=pd.DataFrame(ab,columns=[\"XA\",\"YA\",\"ZA\",\"XL\",\"YL\",\"ZL\"])\n",
        "zt_ab=np.array(imu_abnorm_test_s)\n",
        "print(zt_ab.shape)\n",
        "\n",
        "x_test_ab=[]\n",
        "y_test_ab=[]\n",
        "\n",
        "for i in range(len(zt_ab)-look_back+1):\n",
        "    temp=[]\n",
        "    for j in range(look_back):\n",
        "        temp.append(zt_ab[i+j])\n",
        "    x_test_ab.append(temp)\n",
        "\n",
        "x_test_ab=np.array(x_test_ab)\n",
        "\n",
        "print(x_test_ab.shape)\n",
        "# error_count=0\n",
        "# total_count=len(x_test)\n",
        "tp=0\n",
        "tn=0\n",
        "fp=0\n",
        "fn=0\n",
        "\n",
        "for i in range(len(x_test_ab)):\n",
        "    temp=x_test_ab[i].reshape(1,3,6)\n",
        "    pred=model.predict(temp)\n",
        "    temp=temp.reshape(3,6)\n",
        "    pred=pred.reshape(3,6)\n",
        "    error_vector=np.mean(np.abs(temp-pred),axis=0)\n",
        "    a=np.mean(np.abs(error_vector[:3]),axis=0)\n",
        "    l=np.mean(np.abs(error_vector[3:]),axis=0)\n",
        "    \n",
        "#     # print(error_vector)\n",
        "    # print(l)\n",
        "    # print(a,l,trutha[2+i],truthl[2+i])\n",
        "    if (l>=tlin or a>=tang) and (truthl[2+i]==\"A\" or trutha[2+i]==\"A\"):\n",
        "        tp+=1\n",
        "            \n",
        "    if (l>=tlin or a>=tang) and (truthl[2+i]==\"N\" and trutha[2+i]==\"N\"):\n",
        "        fp+=1\n",
        "    if (l<=tlin and a<=tang) and (truthl[2+i]==\"A\" or trutha[2+i]==\"A\") :\n",
        "        fn+=1\n",
        "        print(a,l,trutha[2+i],truthl[2+i])\n",
        "    if (l<=tlin and a<=tang) and (truthl[2+i]==\"N\" and truthl[2+i]==\"N\") :\n",
        "        tn+=1\n",
        "# print(\"tp: \",tp,\"\\n\",\"fp: \",fp,\"\\n\",\"tn: \",tn,\"\\n\",\"fn: \",fn)\n",
        "  \n",
        "precision=round(tp/(tp+fp),2) \n",
        "recall= round(tp/(tp+fn),2)\n",
        "F1_score= round((2*precision*recall)/(precision+recall),2)\n",
        "\n",
        "print('Precision: ',precision)\n",
        "\n",
        "print('Recall: ',recall)\n",
        "\n",
        "print('F1_Score: ',F1_score)\n"
      ],
      "execution_count": 0,
      "outputs": [
        {
          "output_type": "stream",
          "text": [
            "0.014663427659498292 0.01953747603025051\n",
            "(38, 6)\n",
            "(36, 3, 6)\n",
            "Precision:  0.92\n",
            "Recall:  1.0\n",
            "F1_Score:  0.96\n"
          ],
          "name": "stdout"
        },
        {
          "output_type": "stream",
          "text": [
            "/usr/local/lib/python3.6/dist-packages/ipykernel_launcher.py:8: SettingWithCopyWarning: \n",
            "A value is trying to be set on a copy of a slice from a DataFrame.\n",
            "Try using .loc[row_indexer,col_indexer] = value instead\n",
            "\n",
            "See the caveats in the documentation: http://pandas.pydata.org/pandas-docs/stable/user_guide/indexing.html#returning-a-view-versus-a-copy\n",
            "  \n"
          ],
          "name": "stderr"
        }
      ]
    },
    {
      "cell_type": "code",
      "metadata": {
        "id": "KJrC_tCvEOUN",
        "colab_type": "code",
        "colab": {}
      },
      "source": [
        ""
      ],
      "execution_count": 0,
      "outputs": []
    },
    {
      "cell_type": "code",
      "metadata": {
        "id": "-4to2BceLNfW",
        "colab_type": "code",
        "colab": {}
      },
      "source": [
        ""
      ],
      "execution_count": 0,
      "outputs": []
    }
  ]
}